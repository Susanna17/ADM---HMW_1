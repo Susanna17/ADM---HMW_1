{
 "cells": [
  {
   "cell_type": "markdown",
   "metadata": {},
   "source": [
    "# Algorithmic Methods of Data Mining (ADM) - Homework_1\n",
    "\n",
    "\n",
    "#### Susanna Di Giammarco "
   ]
  },
  {
   "cell_type": "markdown",
   "metadata": {},
   "source": [
    "### PROBLEM 1"
   ]
  },
  {
   "cell_type": "markdown",
   "metadata": {},
   "source": [
    "#### Introduction (all – total: 7 - max points: 75)"
   ]
  },
  {
   "cell_type": "markdown",
   "metadata": {},
   "source": [
    "Say \"Hello, World!\" With Python"
   ]
  },
  {
   "cell_type": "code",
   "execution_count": null,
   "metadata": {},
   "outputs": [],
   "source": [
    "print(\"Hello, World!\")"
   ]
  },
  {
   "cell_type": "markdown",
   "metadata": {},
   "source": [
    "Python If-Else"
   ]
  },
  {
   "cell_type": "code",
   "execution_count": null,
   "metadata": {},
   "outputs": [],
   "source": [
    "import math\n",
    "import os\n",
    "import random\n",
    "import re\n",
    "import sys\n",
    "\n",
    "if __name__ == '__main__':\n",
    "    n = int(input().strip())\n",
    "    if n%2 != 0:\n",
    "        print(\"Weird\")\n",
    "    elif n>=2 and n<=5:\n",
    "        print(\"Not Weird\")\n",
    "    elif n>=6 and n<=20:\n",
    "        print(\"Weird\")\n",
    "    else:\n",
    "        print(\"Not Weird\")"
   ]
  },
  {
   "cell_type": "markdown",
   "metadata": {},
   "source": [
    "Arithmetic Operators"
   ]
  },
  {
   "cell_type": "code",
   "execution_count": null,
   "metadata": {},
   "outputs": [],
   "source": [
    "if __name__ == '__main__':\n",
    "    a = int(input())\n",
    "    b = int(input())\n",
    "    print(a+b)\n",
    "    print(a-b)\n",
    "    print(a*b)"
   ]
  },
  {
   "cell_type": "markdown",
   "metadata": {},
   "source": [
    "Python: Division"
   ]
  },
  {
   "cell_type": "code",
   "execution_count": null,
   "metadata": {},
   "outputs": [],
   "source": [
    "if __name__ == '__main__':\n",
    "    a = int(input())\n",
    "    b = int(input())\n",
    "    print(a//b)\n",
    "    print(a/b)"
   ]
  },
  {
   "cell_type": "markdown",
   "metadata": {},
   "source": [
    "Loops"
   ]
  },
  {
   "cell_type": "code",
   "execution_count": null,
   "metadata": {},
   "outputs": [],
   "source": [
    "if __name__ == '__main__':\n",
    "    n = int(input())\n",
    "    for i in range(n):\n",
    "        print(i**2)"
   ]
  },
  {
   "cell_type": "markdown",
   "metadata": {},
   "source": [
    "Write a function"
   ]
  },
  {
   "cell_type": "code",
   "execution_count": null,
   "metadata": {},
   "outputs": [],
   "source": [
    "def is_leap(year):\n",
    "    leap = False\n",
    "    if (year%4)==0:\n",
    "        leap = True\n",
    "        if(year%100)==0:\n",
    "            leap =False\n",
    "            if(year%400)==0:\n",
    "                leap = True\n",
    "    return leap"
   ]
  },
  {
   "cell_type": "markdown",
   "metadata": {},
   "source": [
    "Print Function"
   ]
  },
  {
   "cell_type": "code",
   "execution_count": null,
   "metadata": {},
   "outputs": [],
   "source": [
    "if __name__ == '__main__':\n",
    "    n = int(input())\n",
    "    if n>150:\n",
    "        print(\"The number is too big\")\n",
    "    string = \"\"\n",
    "    for i in range(1,n+1):\n",
    "        string = string + str(i)\n",
    "    print(string)"
   ]
  },
  {
   "cell_type": "markdown",
   "metadata": {},
   "source": [
    "#### Data types (all – total: 6 - max points: 60)"
   ]
  },
  {
   "cell_type": "markdown",
   "metadata": {},
   "source": [
    "List Comprehensions"
   ]
  },
  {
   "cell_type": "code",
   "execution_count": null,
   "metadata": {},
   "outputs": [],
   "source": [
    "if __name__ == '__main__':\n",
    "    x = int(input())\n",
    "    y = int(input())\n",
    "    z = int(input())\n",
    "    n = int(input())\n",
    "    list = []\n",
    "    for i in range(x+1):\n",
    "        for j in range(y+1):\n",
    "            for k in range(z+1):\n",
    "                if (i+j+k)!= n:\n",
    "                    list.append([i,j,k])\n",
    "    print(list)"
   ]
  },
  {
   "cell_type": "markdown",
   "metadata": {},
   "source": [
    "Find the Runner-Up Score!"
   ]
  },
  {
   "cell_type": "code",
   "execution_count": null,
   "metadata": {},
   "outputs": [],
   "source": [
    "if __name__ == '__main__':\n",
    "    n = int(input())\n",
    "    if n<2 and n>10:\n",
    "        print(\"The n value is not correct\")\n",
    "    arr = list(map(int, input().split()))\n",
    "    top = max(arr)\n",
    "    l = []\n",
    "    for i in arr:\n",
    "        if i != top:\n",
    "            l.append(i)\n",
    "    print(max(l))"
   ]
  },
  {
   "cell_type": "markdown",
   "metadata": {},
   "source": [
    "Nested Lists"
   ]
  },
  {
   "cell_type": "code",
   "execution_count": null,
   "metadata": {},
   "outputs": [],
   "source": [
    "if __name__ == '__main__':\n",
    "    l = []\n",
    "    l_score = []\n",
    "    l_names = []\n",
    "    for _ in range(int(input())):\n",
    "        name = input()\n",
    "        score = float(input())\n",
    "        l_score.append(score)\n",
    "        l.append([name, score])\n",
    "    m = min(l_score)\n",
    "    l_score.sort()\n",
    "    i=1\n",
    "    while l_score[i] == m:\n",
    "        i+=1\n",
    "    sec = l_score[i]\n",
    "    for j in l:\n",
    "        if j[1] == sec:\n",
    "            l_names.append(j[0])\n",
    "    l_names.sort()\n",
    "    for k in l_names:\n",
    "        print(k)\n"
   ]
  },
  {
   "cell_type": "markdown",
   "metadata": {},
   "source": [
    "Finding the percentage"
   ]
  },
  {
   "cell_type": "code",
   "execution_count": null,
   "metadata": {},
   "outputs": [],
   "source": [
    "if __name__ == '__main__':\n",
    "    n = int(input())\n",
    "    student_marks = {}\n",
    "    for _ in range(n):\n",
    "        name, *line = input().split()\n",
    "        scores = list(map(float, line))\n",
    "        student_marks[name] = scores\n",
    "    query_name = input()\n",
    "    for i in student_marks.keys():\n",
    "        if (i == query_name):\n",
    "            avg = float(sum(student_marks.get(query_name))/3)\n",
    "            print(format(avg, '.2f'))"
   ]
  },
  {
   "cell_type": "markdown",
   "metadata": {},
   "source": [
    "Lists"
   ]
  },
  {
   "cell_type": "code",
   "execution_count": null,
   "metadata": {},
   "outputs": [],
   "source": [
    "if __name__ == '__main__':\n",
    "    N = int(input())\n",
    "    l = []\n",
    "    for i in range(N):\n",
    "        function = input().split()\n",
    "        if function[0] == \"append\":\n",
    "            l.append(int(function[1]))\n",
    "        elif function[0] == \"remove\":\n",
    "            l.remove(int(function[1]))\n",
    "        elif function[0] == \"insert\":\n",
    "            pos = int(function[1])\n",
    "            sost = int(function[2])\n",
    "            l.insert(pos,sost)\n",
    "        elif function[0] == \"sort\":\n",
    "            l.sort()\n",
    "        elif function[0] == \"print\":\n",
    "            print(l)\n",
    "        elif function[0] == \"pop\":\n",
    "            l.pop()\n",
    "        elif function[0] ==\"reverse\":\n",
    "            l.reverse()"
   ]
  },
  {
   "cell_type": "markdown",
   "metadata": {},
   "source": [
    "Tuples"
   ]
  },
  {
   "cell_type": "code",
   "execution_count": null,
   "metadata": {},
   "outputs": [],
   "source": [
    "if __name__ == '__main__':\n",
    "    n = int(input())\n",
    "    integer_list = list(map(int, input().split()))\n",
    "    tup = tuple(integer_list)\n",
    "    print(hash(tup))"
   ]
  },
  {
   "cell_type": "markdown",
   "metadata": {},
   "source": [
    "#### Strings (all – total: 14 - max points: 220)"
   ]
  },
  {
   "cell_type": "markdown",
   "metadata": {},
   "source": [
    "sWAP cASE"
   ]
  },
  {
   "cell_type": "code",
   "execution_count": null,
   "metadata": {},
   "outputs": [],
   "source": [
    "def swap_case(s):\n",
    "    l = s.lower()\n",
    "    u = s.upper()\n",
    "    s_new = \"\"\n",
    "    for i in range(len(s)):\n",
    "        if s[i] == l[i]:\n",
    "            s_new += s[i].upper()\n",
    "        elif s[i] == u[i]:\n",
    "            s_new  += s[i].lower()\n",
    "        else:\n",
    "          s_new += s[i]\n",
    "    return s_new"
   ]
  },
  {
   "cell_type": "markdown",
   "metadata": {},
   "source": [
    "String Split and Join"
   ]
  },
  {
   "cell_type": "code",
   "execution_count": null,
   "metadata": {},
   "outputs": [],
   "source": [
    "def split_and_join(line):\n",
    "    line= line.split(\" \")\n",
    "    line= \"-\".join(line)\n",
    "    return line\n",
    "\n",
    "if __name__ == '__main__':\n",
    "    line = input()\n",
    "    result = split_and_join(line)\n",
    "    print(result)"
   ]
  },
  {
   "cell_type": "markdown",
   "metadata": {},
   "source": [
    "What's Your Name?"
   ]
  },
  {
   "cell_type": "code",
   "execution_count": null,
   "metadata": {},
   "outputs": [],
   "source": [
    "def print_full_name(first, last):\n",
    "    print(f\"Hello {first} {last}! You just delved into python.\")"
   ]
  },
  {
   "cell_type": "markdown",
   "metadata": {},
   "source": [
    "Mutations"
   ]
  },
  {
   "cell_type": "code",
   "execution_count": null,
   "metadata": {},
   "outputs": [],
   "source": [
    "def mutate_string(string, position, character):\n",
    "    l=list(string)\n",
    "    l[position]= character\n",
    "    l = \"\".join(l)\n",
    "    return l"
   ]
  },
  {
   "cell_type": "markdown",
   "metadata": {},
   "source": [
    "Find a string"
   ]
  },
  {
   "cell_type": "code",
   "execution_count": null,
   "metadata": {},
   "outputs": [],
   "source": [
    "def count_substring(string, sub_string):\n",
    "    count_in = 0\n",
    "    count_out = 0\n",
    "    for i in range(len(string) - len(sub_string)+1):\n",
    "        for j in range(len(sub_string)):\n",
    "            if (string[i+j] == sub_string[j]):\n",
    "                count_in += 1\n",
    "            else:\n",
    "                break\n",
    "        if (count_in == len(sub_string)):\n",
    "            count_out += 1\n",
    "        count_in = 0\n",
    "    return count_out"
   ]
  },
  {
   "cell_type": "markdown",
   "metadata": {},
   "source": [
    "String Validators"
   ]
  },
  {
   "cell_type": "code",
   "execution_count": null,
   "metadata": {},
   "outputs": [],
   "source": [
    "if __name__ == '__main__':\n",
    "    s = input()\n",
    "    alphanum=False\n",
    "    alphabet= False\n",
    "    dig=False\n",
    "    low=False\n",
    "    up = False\n",
    "    for i in range(len(s)):\n",
    "        if s[i].isalnum():\n",
    "            alphanum=True\n",
    "        if s[i].isalpha():\n",
    "            alphabet=True\n",
    "        if s[i].isdigit():\n",
    "            dig=True\n",
    "        if s[i].islower():\n",
    "            low=True\n",
    "        if s[i].isupper():\n",
    "            up=True\n",
    "    print(alphanum)\n",
    "    print(alphabet)\n",
    "    print(dig)\n",
    "    print(low)\n",
    "    print(up)\n"
   ]
  },
  {
   "cell_type": "markdown",
   "metadata": {},
   "source": [
    "Text Alignment"
   ]
  },
  {
   "cell_type": "code",
   "execution_count": null,
   "metadata": {},
   "outputs": [],
   "source": [
    "odd = False\n",
    "while (odd == False):\n",
    "    thick = int(input())\n",
    "    if (thick%2 != 0):\n",
    "        odd = True\n",
    "    else:\n",
    "        print(\"Please write an odd number:\")\n",
    "p = 'H'\n",
    "\n",
    "for i in range(1, thick+1):\n",
    "    print((p*(i*2-1)).center(((thick-1)*2)+1,\" \"))\n",
    "for i in range(thick+1):\n",
    "    print((p*thick).center(thick*2)+(p*thick).center(thick*6))\n",
    "for i in range((thick+1)//2):\n",
    "    print((p*thick*5).center(thick*6))    \n",
    "for i in range(thick+1):\n",
    "    print((p*thick).center(thick*2)+(p*thick).center(thick*6))    \n",
    "j = 0\n",
    "i = thick\n",
    "while i>0:\n",
    "    print((p*(i*2-1)).rjust(thick*6-1-j))\n",
    "    j+=1\n",
    "    i-=1"
   ]
  },
  {
   "cell_type": "markdown",
   "metadata": {},
   "source": [
    "Text Wrap"
   ]
  },
  {
   "cell_type": "code",
   "execution_count": null,
   "metadata": {},
   "outputs": [],
   "source": [
    "def wrap(string, max_width):\n",
    "    l = textwrap.wrap(string, max_width)\n",
    "    for i in l:\n",
    "        print(i)\n",
    "    return ''"
   ]
  },
  {
   "cell_type": "markdown",
   "metadata": {},
   "source": [
    "Designer Door Mat"
   ]
  },
  {
   "cell_type": "code",
   "execution_count": null,
   "metadata": {},
   "outputs": [],
   "source": [
    "N,M = map(int,input().split())\n",
    "half = int((N-1)/2)\n",
    "\n",
    "for i in range(half):\n",
    "    print(((\"-\")*3*(half-i)) + ((\".|.\")*((i+1)*2-1)) + ((\"-\")*3*(half-i)))\n",
    "print(\"WELCOME\".center(M,\"-\"))\n",
    "for i in reversed(range(half)):\n",
    "    print(((\"-\")*3*(half-i)) + ((\".|.\")*((i+1)*2-1)) + ((\"-\")*3*(half-i)))"
   ]
  },
  {
   "cell_type": "markdown",
   "metadata": {},
   "source": [
    "String Formatting"
   ]
  },
  {
   "cell_type": "code",
   "execution_count": null,
   "metadata": {},
   "outputs": [],
   "source": [
    "def print_formatted(number):\n",
    "    k = len(bin(number))-2\n",
    "    for i in range(1,number+1):\n",
    "        decimal=str(i)\n",
    "        octal=oct(i)[2:]\n",
    "        hexadecimal=hex(i).upper()[2:]\n",
    "        binary=bin(i)[2:]\n",
    "        print(decimal.rjust(k, \" \"), octal.rjust(k, \" \"), hexadecimal.rjust(k, \" \"), binary.rjust(k, \" \"))"
   ]
  },
  {
   "cell_type": "markdown",
   "metadata": {},
   "source": [
    "Alphabet Rangoli"
   ]
  },
  {
   "cell_type": "code",
   "execution_count": null,
   "metadata": {},
   "outputs": [],
   "source": [
    "def print_rangoli(size):\n",
    "    A = list(\"abcdefghijklmnopqrstuvwxyz\")\n",
    "    A = A[:size]\n",
    "    B = A[1:size]\n",
    "    B.sort(reverse = True)\n",
    "    C = B + A\n",
    "\n",
    "    width = (len(C)*2) -1\n",
    "\n",
    "    #first triangle\n",
    "    for i in range(size-1):\n",
    "        b = B + A\n",
    "        for j in range((size-1)*2 -(i*2)):\n",
    "            b.pop(1+i)\n",
    "        print(\"-\".join(b).center(width, '-'))\n",
    "  \n",
    "    #middle line\n",
    "    print(\"-\".join(C).center(width, '-'))\n",
    "\n",
    "    #second triangle\n",
    "    for i in range(size-1):\n",
    "        C.pop(size-1-i)\n",
    "        C.pop(size-1-i)\n",
    "        print(\"-\".join(C).center(width, '-'))"
   ]
  },
  {
   "cell_type": "markdown",
   "metadata": {},
   "source": [
    "Capitalize!"
   ]
  },
  {
   "cell_type": "code",
   "execution_count": null,
   "metadata": {},
   "outputs": [],
   "source": [
    "def solve(s):\n",
    "    l_before = s.split(' ')\n",
    "    l_after =[]\n",
    "    for i in range(len(l_before)):\n",
    "        l_after.append(l_before[i].capitalize())\n",
    "    k = ' '.join(l_after)\n",
    "    return k"
   ]
  },
  {
   "cell_type": "markdown",
   "metadata": {},
   "source": [
    "The Minion Game"
   ]
  },
  {
   "cell_type": "code",
   "execution_count": null,
   "metadata": {},
   "outputs": [],
   "source": [
    "def minion_game(string):\n",
    "    St = 0\n",
    "    Ke = 0\n",
    "    vow = [\"A\",\"E\",\"I\",\"O\",\"U\"]\n",
    "    n = len(string)\n",
    "    for i in range(n):\n",
    "        if string[i] in vow:\n",
    "            Ke += n-i\n",
    "        else:\n",
    "            St += n-i\n",
    "    if (St>Ke):\n",
    "        print(\"Stuart \"+ str(St))\n",
    "    elif (St<Ke):\n",
    "        print(\"Kevin \"+ str(Ke))\n",
    "    else:\n",
    "        print(\"Draw\") "
   ]
  },
  {
   "cell_type": "markdown",
   "metadata": {},
   "source": [
    "Merge the Tools!"
   ]
  },
  {
   "cell_type": "code",
   "execution_count": null,
   "metadata": {},
   "outputs": [],
   "source": [
    "def merge_the_tools(string, k):\n",
    "    part = len(string)//k\n",
    "    i=0\n",
    "    for i in range(part):\n",
    "        distinct = []\n",
    "        l = list(string[(i*k):(i*k+k)])\n",
    "        for j in l:\n",
    "            if j not in distinct:\n",
    "                distinct.append(j)\n",
    "        print(\"\".join(map(str,distinct)))"
   ]
  },
  {
   "cell_type": "markdown",
   "metadata": {},
   "source": [
    "#### Sets (all – total: 13 - max points: 170)"
   ]
  },
  {
   "cell_type": "markdown",
   "metadata": {},
   "source": [
    "Introduction to Sets"
   ]
  },
  {
   "cell_type": "code",
   "execution_count": null,
   "metadata": {},
   "outputs": [],
   "source": [
    "def average(array):\n",
    "    s = set(array)\n",
    "    N = len(set(s))\n",
    "    avg = sum(set(s))/N\n",
    "    return avg"
   ]
  },
  {
   "cell_type": "markdown",
   "metadata": {},
   "source": [
    "No Idea!"
   ]
  },
  {
   "cell_type": "code",
   "execution_count": null,
   "metadata": {},
   "outputs": [],
   "source": [
    "n,m = map(int, input().split())\n",
    "arr = list(map(int, input().split()))\n",
    "A = set(map(int, input().split()))\n",
    "B = set(map(int, input().split()))\n",
    "happyness = 0\n",
    "for i in arr:\n",
    "    if i in A:\n",
    "        happyness += 1\n",
    "    if i in B:\n",
    "        happyness -= 1\n",
    "print(happyness)"
   ]
  },
  {
   "cell_type": "markdown",
   "metadata": {},
   "source": [
    "Symmetric Difference"
   ]
  },
  {
   "cell_type": "code",
   "execution_count": null,
   "metadata": {},
   "outputs": [],
   "source": [
    "def difference(l_M,l_N):\n",
    "    l_M = set(l_M)\n",
    "    l_N = set(l_N)\n",
    "    diff_1 = l_M.difference(l_N)\n",
    "    diff_2 = l_N.difference(l_M)\n",
    "    diff = diff_1.union(diff_2)\n",
    "    diff = list(diff)\n",
    "    diff.sort()\n",
    "    for i in diff:\n",
    "        print(i)\n",
    "\n",
    "M = int(input())\n",
    "l_M = list(map(int, input().split()))\n",
    "N = int(input())\n",
    "l_N = list(map(int, input().split()))\n",
    "difference(l_M,l_N)"
   ]
  },
  {
   "cell_type": "markdown",
   "metadata": {},
   "source": [
    "Set .add()"
   ]
  },
  {
   "cell_type": "code",
   "execution_count": null,
   "metadata": {},
   "outputs": [],
   "source": [
    "s = set()\n",
    "n = int(input())\n",
    "for i in range(n):\n",
    "    s.add(input())\n",
    "print(len(s))"
   ]
  },
  {
   "cell_type": "markdown",
   "metadata": {},
   "source": [
    "Set .discard(), .remove() & .pop()"
   ]
  },
  {
   "cell_type": "code",
   "execution_count": null,
   "metadata": {},
   "outputs": [],
   "source": [
    "n = int(input())\n",
    "s = set(map(int, input().split()))\n",
    "N = int(input())\n",
    "for i in range(N):\n",
    "    function = input().split()\n",
    "    if (function[0]== \"remove\"):\n",
    "        s.remove(int(function[1]))\n",
    "    elif (function[0]==\"discard\"):\n",
    "        s.discard(int(function[1]))\n",
    "    elif (function[0]==\"pop\"):\n",
    "        s.pop()\n",
    "print(sum(s))"
   ]
  },
  {
   "cell_type": "markdown",
   "metadata": {},
   "source": [
    "Set .union() Operation"
   ]
  },
  {
   "cell_type": "code",
   "execution_count": null,
   "metadata": {},
   "outputs": [],
   "source": [
    "n = int(input())\n",
    "stud_1 = set(map(int, input().split()))\n",
    "b = int(input())\n",
    "stud_2 = set(map(int, input().split()))\n",
    "stud_3 = set(stud_1.union(stud_2))\n",
    "count = 0\n",
    "for i in stud_3:\n",
    "    count += 1\n",
    "print(count)"
   ]
  },
  {
   "cell_type": "markdown",
   "metadata": {},
   "source": [
    "Set .intersection() Operation"
   ]
  },
  {
   "cell_type": "code",
   "execution_count": null,
   "metadata": {},
   "outputs": [],
   "source": [
    "n = int(input())\n",
    "stud_1 = set(map(int, input().split()))\n",
    "b = int(input())\n",
    "stud_2 = set(map(int, input().split()))\n",
    "stud_3 = set(stud_1.intersection(stud_2))\n",
    "count = 0\n",
    "for i in stud_3:\n",
    "    count += 1\n",
    "print(count) "
   ]
  },
  {
   "cell_type": "markdown",
   "metadata": {},
   "source": [
    "Set .difference() Operation"
   ]
  },
  {
   "cell_type": "code",
   "execution_count": null,
   "metadata": {},
   "outputs": [],
   "source": [
    "n_engl = int(input())\n",
    "stud_engl = set(map(int, input().split()))\n",
    "n_fr = int(input())\n",
    "stud_fr = set(map(int, input().split()))\n",
    "stud_3 = set(stud_engl.difference(stud_fr))\n",
    "count = 0\n",
    "for i in stud_3:\n",
    "    count += 1\n",
    "print(count)"
   ]
  },
  {
   "cell_type": "markdown",
   "metadata": {},
   "source": [
    "Set .symmetric_difference() Operation"
   ]
  },
  {
   "cell_type": "markdown",
   "metadata": {},
   "source": [
    "n_engl = int(input())\n",
    "stud_engl = set(map(int, input().split()))\n",
    "n_fr = int(input())\n",
    "stud_fr = set(map(int, input().split()))\n",
    "stud_3 = set(stud_engl.symmetric_difference(stud_fr))\n",
    "count = 0\n",
    "for i in stud_3:\n",
    "    count += 1\n",
    "print(count) "
   ]
  },
  {
   "cell_type": "markdown",
   "metadata": {},
   "source": [
    "Set Mutations"
   ]
  },
  {
   "cell_type": "code",
   "execution_count": null,
   "metadata": {},
   "outputs": [],
   "source": [
    "A = int(input())\n",
    "s_A = set(map(int, input().split()))\n",
    "N = int(input())\n",
    "for i in range(N):\n",
    "    function = input().split()\n",
    "    s_B = set(map(int, input().split()))\n",
    "    if function[0] == \"update\":\n",
    "        s_A.update(s_B)\n",
    "    elif function[0] == \"intersection_update\":\n",
    "        s_A.intersection_update(s_B)\n",
    "    elif function[0] == \"difference_update\":\n",
    "        s_A.difference_update(s_B)\n",
    "    elif function[0] == \"symmetric_difference_update\":\n",
    "        s_A.symmetric_difference_update(s_B)\n",
    "print(sum(s_A))"
   ]
  },
  {
   "cell_type": "markdown",
   "metadata": {},
   "source": [
    "The Captain's Room"
   ]
  },
  {
   "cell_type": "code",
   "execution_count": null,
   "metadata": {},
   "outputs": [],
   "source": [
    "k = int(input())\n",
    "room_l = list(input().split())\n",
    "d = {}\n",
    "for i in room_l:\n",
    "    if i not in d:\n",
    "        d[i] = 1\n",
    "    else:\n",
    "        d[i] += 1\n",
    "for z in d.keys():\n",
    "    if d[z] == 1:\n",
    "        print(z)"
   ]
  },
  {
   "cell_type": "markdown",
   "metadata": {},
   "source": [
    "Check Subset"
   ]
  },
  {
   "cell_type": "code",
   "execution_count": null,
   "metadata": {},
   "outputs": [],
   "source": [
    "T = int(input())\n",
    "for _ in range(T):\n",
    "    n_A = int(input())\n",
    "    A = set(map(int, input().split()))\n",
    "    n_B = int(input())\n",
    "    B = set(map(int, input().split()))\n",
    "    if (A.intersection(B)==A):\n",
    "        print(True)\n",
    "    else:\n",
    "        print(False)"
   ]
  },
  {
   "cell_type": "markdown",
   "metadata": {},
   "source": [
    "Check Strict Superset"
   ]
  },
  {
   "cell_type": "code",
   "execution_count": null,
   "metadata": {},
   "outputs": [],
   "source": [
    "A = set(map(int, input().split()))\n",
    "n = int(input())\n",
    "count = 0\n",
    "for _ in range(n):\n",
    "    B = set(map(int,input().split()))\n",
    "    z = B.union(A)\n",
    "    if (len(A.difference(B))>0) & (len(B.difference(A))==0):\n",
    "        count += 1\n",
    "if count ==n:\n",
    "    print(True)\n",
    "else:\n",
    "    print(False)"
   ]
  },
  {
   "cell_type": "markdown",
   "metadata": {},
   "source": [
    "#### Collections (all – total: 8 - max points: 220)"
   ]
  },
  {
   "cell_type": "markdown",
   "metadata": {},
   "source": [
    "collections.Counter()"
   ]
  },
  {
   "cell_type": "code",
   "execution_count": null,
   "metadata": {},
   "outputs": [],
   "source": [
    "import collections\n",
    "\n",
    "num_shoes = int(input())\n",
    "store = collections.Counter(map(int, input().split()))\n",
    "N = int(input())\n",
    "money = 0\n",
    "for i in range(N):\n",
    "    s, price = map(int, input().split())\n",
    "    if store[s] > 0:\n",
    "        store[s] -= 1\n",
    "        money += price\n",
    "print(money)"
   ]
  },
  {
   "cell_type": "markdown",
   "metadata": {},
   "source": [
    "DefaultDict Tutorial"
   ]
  },
  {
   "cell_type": "code",
   "execution_count": null,
   "metadata": {},
   "outputs": [],
   "source": [
    "from collections import defaultdict\n",
    "d = defaultdict(list)\n",
    "n, m = map(int, input().split())\n",
    "for i in range(n):\n",
    "    letter = str(input())\n",
    "    d[letter].append(i+1)\n",
    "for j in range(m):\n",
    "    another = str(input())\n",
    "    if another in d:\n",
    "        print(\" \".join(map(str, d[another])))\n",
    "    else:\n",
    "        print(-1)"
   ]
  },
  {
   "cell_type": "markdown",
   "metadata": {},
   "source": [
    "Collections.namedtuple()\n"
   ]
  },
  {
   "cell_type": "code",
   "execution_count": null,
   "metadata": {},
   "outputs": [],
   "source": [
    "from collections import namedtuple\n",
    "\n",
    "N = int(input())\n",
    "col_names = input().split()\n",
    "l = list()\n",
    "for i in range(4):\n",
    "    if col_names[i] == \"MARKS\":\n",
    "        pos = i\n",
    "for _ in range(N):\n",
    "    student = input().split()\n",
    "    mark = int(student[pos])\n",
    "    l.append(mark)\n",
    "print(sum(l)/len(l))"
   ]
  },
  {
   "cell_type": "markdown",
   "metadata": {},
   "source": [
    "Collections.OrderedDict()"
   ]
  },
  {
   "cell_type": "code",
   "execution_count": null,
   "metadata": {},
   "outputs": [],
   "source": [
    "from collections import OrderedDict\n",
    "N = int(input())\n",
    "dic = {}\n",
    "for i in range(N):\n",
    "    item = input().split()\n",
    "    if \" \".join(item[:-1]) not in dic:\n",
    "        dic[\" \".join(item[:-1])] = int(item[-1])\n",
    "    else:\n",
    "        dic[\" \".join(item[:-1])] += int(item[-1])\n",
    "for x in dic:\n",
    "    print(x, dic[x])"
   ]
  },
  {
   "cell_type": "markdown",
   "metadata": {},
   "source": [
    "Word Order"
   ]
  },
  {
   "cell_type": "code",
   "execution_count": null,
   "metadata": {},
   "outputs": [],
   "source": [
    "from collections import OrderedDict\n",
    "n = int(input())\n",
    "dic = OrderedDict()\n",
    "for i in range(n):\n",
    "    word = input()\n",
    "    if word not in dic.keys():\n",
    "        dic[word] = 1\n",
    "    else:\n",
    "        dic[word] += 1\n",
    "    \n",
    "print(len(dic.keys()))\n",
    "print(\" \".join(map(str, dic.values())))"
   ]
  },
  {
   "cell_type": "markdown",
   "metadata": {},
   "source": [
    "Collections.deque()"
   ]
  },
  {
   "cell_type": "code",
   "execution_count": null,
   "metadata": {},
   "outputs": [],
   "source": [
    "from collections import deque\n",
    "N = int(input())\n",
    "d = deque()\n",
    "for i in range(N):\n",
    "    num = input().split()\n",
    "    if num[0] == \"pop\":\n",
    "        d.pop()\n",
    "    elif num[0] == \"popleft\":\n",
    "        d.popleft()\n",
    "    elif num[0] == \"append\":\n",
    "        d.append(num[1])\n",
    "    else:\n",
    "        d.appendleft(num[1])\n",
    "print(\" \".join(d))"
   ]
  },
  {
   "cell_type": "markdown",
   "metadata": {},
   "source": [
    "Company Logo"
   ]
  },
  {
   "cell_type": "code",
   "execution_count": null,
   "metadata": {},
   "outputs": [],
   "source": [
    "import math\n",
    "import os\n",
    "import random\n",
    "import re\n",
    "import sys\n",
    "from collections import Counter\n",
    "\n",
    "if __name__ == '__main__':\n",
    "    s = input()\n",
    "    s = sorted(s)\n",
    "    num = Counter(s)\n",
    "    most = num.most_common(3)\n",
    "    for i in most:\n",
    "        print(i[0], i[1])"
   ]
  },
  {
   "cell_type": "markdown",
   "metadata": {},
   "source": [
    "Piling Up!"
   ]
  },
  {
   "cell_type": "code",
   "execution_count": null,
   "metadata": {},
   "outputs": [],
   "source": [
    "from collections import deque\n",
    "T=int(input())\n",
    "for _ in range(T):\n",
    "    n=int(input())\n",
    "    blocks=deque(map(int, input().split()))\n",
    "    max_ = max(blocks)\n",
    "    if (max_ == blocks[0] or max_== blocks[-1]):\n",
    "        print('Yes')\n",
    "    else:\n",
    "        print('No')"
   ]
  },
  {
   "cell_type": "markdown",
   "metadata": {},
   "source": [
    "#### Date and Time (all – total: 2 - max points: 40)"
   ]
  },
  {
   "cell_type": "markdown",
   "metadata": {},
   "source": [
    "Calendar Module"
   ]
  },
  {
   "cell_type": "code",
   "execution_count": null,
   "metadata": {},
   "outputs": [],
   "source": [
    "import calendar\n",
    "week = ['MONDAY', 'TUESDAY', 'WEDNESDAY', 'THURSDAY', 'FRIDAY', 'SATURDAY', 'SUNDAY']\n",
    "date = list(map(int, input().split()))\n",
    "year, month, day = date[2],date[0],date[1]\n",
    "print(week[calendar.weekday(year, month, day)])"
   ]
  },
  {
   "cell_type": "markdown",
   "metadata": {},
   "source": [
    "Time Delta"
   ]
  },
  {
   "cell_type": "code",
   "execution_count": null,
   "metadata": {},
   "outputs": [],
   "source": [
    "import math\n",
    "import os\n",
    "import random\n",
    "import re\n",
    "import sys\n",
    "\n",
    "from datetime import datetime\n",
    "\n",
    "def time_delta(t1, t2):\n",
    "    to_format = \"%a %d %b %Y %H:%M:%S %z\"\n",
    "    t1 = datetime.strptime(t1, to_format)\n",
    "    t2 = datetime.strptime(t2, to_format)\n",
    "    delta = abs(int((t1 - t2).total_seconds()))\n",
    "    return str(delta)\n",
    "\n",
    "if __name__ == '__main__':\n",
    "    fptr = open(os.environ['OUTPUT_PATH'], 'w')\n",
    "\n",
    "    t = int(input())\n",
    "\n",
    "    for t_itr in range(t):\n",
    "        t1 = input()\n",
    "\n",
    "        t2 = input()\n",
    "\n",
    "        delta = time_delta(t1, t2)\n",
    "\n",
    "        fptr.write(delta + '\\n')\n",
    "\n",
    "    fptr.close()"
   ]
  },
  {
   "cell_type": "markdown",
   "metadata": {},
   "source": [
    "#### Exceptions (only 1 - max points: 10)"
   ]
  },
  {
   "cell_type": "code",
   "execution_count": null,
   "metadata": {},
   "outputs": [],
   "source": [
    "for i in range(int(input())):\n",
    "    try:\n",
    "        a, b = map(int, input().split())\n",
    "        print(a//b)\n",
    "    except ZeroDivisionError as err:\n",
    "        print(\"Error Code:\", err)\n",
    "    except ValueError as ve:\n",
    "        print(\"Error Code:\", ve)"
   ]
  },
  {
   "cell_type": "markdown",
   "metadata": {},
   "source": [
    "#### Built-ins (only 3 - max points: 80)"
   ]
  },
  {
   "cell_type": "markdown",
   "metadata": {},
   "source": [
    "Zipped!"
   ]
  },
  {
   "cell_type": "code",
   "execution_count": null,
   "metadata": {},
   "outputs": [],
   "source": [
    "N, X = map(int,input().split())\n",
    "marks = []\n",
    "for i in range(X):\n",
    "    subj = list(map(float ,input().split()))\n",
    "    marks = marks + [subj]\n",
    "\n",
    "col = (list(zip(*marks)))\n",
    "for stud in col:\n",
    "    print(round(sum(stud)/X, 1))"
   ]
  },
  {
   "cell_type": "markdown",
   "metadata": {},
   "source": [
    "Athlete Sort"
   ]
  },
  {
   "cell_type": "code",
   "execution_count": null,
   "metadata": {},
   "outputs": [],
   "source": [
    "import math\n",
    "import os\n",
    "import random\n",
    "import re\n",
    "import sys\n",
    "\n",
    "\n",
    "\n",
    "if __name__ == '__main__':\n",
    "    nm = input().split()\n",
    "\n",
    "    n = int(nm[0])\n",
    "\n",
    "    m = int(nm[1])\n",
    "\n",
    "    arr = []\n",
    "\n",
    "    for _ in range(n):\n",
    "        arr.append(list(map(int, input().rstrip().split())))\n",
    "\n",
    "    k = int(input())\n",
    "\n",
    "    sorted_list = sorted(arr, key = lambda x:x[k])\n",
    "    for i in sorted_list:\n",
    "        print(' '.join(map(str, i)))"
   ]
  },
  {
   "cell_type": "markdown",
   "metadata": {},
   "source": [
    "ginortS"
   ]
  },
  {
   "cell_type": "code",
   "execution_count": null,
   "metadata": {},
   "outputs": [],
   "source": [
    "S = input()\n",
    "l = []\n",
    "L = []\n",
    "odd =[]\n",
    "even = [] \n",
    "for i in S:\n",
    "    if (i.isalpha()):\n",
    "        if (i.isupper()):\n",
    "            L.append(i)\n",
    "        else:\n",
    "            l.append(i)\n",
    "    else:\n",
    "        if(int(i)%2 != 0):\n",
    "            odd.append(i)\n",
    "        else:\n",
    "            even.append(i)\n",
    "l.sort()\n",
    "L.sort()\n",
    "odd.sort()\n",
    "even.sort()\n",
    "mix = l + L + odd + even\n",
    "print(\"\".join(mix))"
   ]
  },
  {
   "cell_type": "markdown",
   "metadata": {},
   "source": [
    "#### Python Functionals (only 1 - max points: 20)"
   ]
  },
  {
   "cell_type": "markdown",
   "metadata": {},
   "source": [
    "Map and Lambda Function"
   ]
  },
  {
   "cell_type": "code",
   "execution_count": null,
   "metadata": {},
   "outputs": [],
   "source": [
    "cube = lambda x:x**3\n",
    "\n",
    "def fibonacci(n):\n",
    "    if n == 0:\n",
    "        return []\n",
    "    elif n == 1:\n",
    "        return [0]\n",
    "    else:\n",
    "        fib_l = [0, 1]    \n",
    "        for i in range(n-2):\n",
    "            fib_l.append(fib_l[-1]+fib_l[-2])\n",
    "        return fib_l"
   ]
  },
  {
   "cell_type": "markdown",
   "metadata": {},
   "source": [
    "#### Regex and Parsing challenges (all – total: 17 - max points: 560)"
   ]
  },
  {
   "cell_type": "markdown",
   "metadata": {},
   "source": [
    "Detect Floating Point Number"
   ]
  },
  {
   "cell_type": "code",
   "execution_count": null,
   "metadata": {},
   "outputs": [],
   "source": [
    "T = int(input())\n",
    "for i in range(T):\n",
    "    N = input()\n",
    "    if N == '0':\n",
    "        print(False)\n",
    "        break\n",
    "    try:\n",
    "        float(N)\n",
    "        print(True)\n",
    "    except ValueError:\n",
    "        print(False)"
   ]
  },
  {
   "cell_type": "markdown",
   "metadata": {},
   "source": [
    "Re.split()"
   ]
  },
  {
   "cell_type": "code",
   "execution_count": null,
   "metadata": {},
   "outputs": [],
   "source": [
    "regex_pattern = r\"[,\\.]\"    # Do not delete 'r'."
   ]
  },
  {
   "cell_type": "markdown",
   "metadata": {},
   "source": [
    "Group(), Groups() & Groupdict()"
   ]
  },
  {
   "cell_type": "code",
   "execution_count": null,
   "metadata": {},
   "outputs": [],
   "source": [
    "import re\n",
    "S = input()\n",
    "m = re.search(r\"([a-zA-Z0-9])\\1+\",S)\n",
    "if m:\n",
    "    print(m.group(1))\n",
    "else:\n",
    "    print(-1)"
   ]
  },
  {
   "cell_type": "markdown",
   "metadata": {},
   "source": [
    "Re.findall() & Re.finditer()"
   ]
  },
  {
   "cell_type": "code",
   "execution_count": null,
   "metadata": {},
   "outputs": [],
   "source": [
    "import re\n",
    "S = input()\n",
    "m = re.findall(r\"(?<=[^aeiouAEIOU])([aeiouAEIOU]{2,})(?=[^aeiouAEIOU])\", S)\n",
    "if m:\n",
    "    for x in m:\n",
    "        print(x)\n",
    "else:\n",
    "    print(-1)"
   ]
  },
  {
   "cell_type": "markdown",
   "metadata": {},
   "source": [
    "Re.start() & Re.end()"
   ]
  },
  {
   "cell_type": "code",
   "execution_count": null,
   "metadata": {},
   "outputs": [],
   "source": [
    "import re\n",
    "S = input()\n",
    "k = input()\n",
    "match = False\n",
    "for x in range(len(S)):\n",
    "    m = re.search(k, S[x:(x+len(k))])\n",
    "    if m:\n",
    "        match= True\n",
    "        print((m.start()+x , m.end()+x-1))\n",
    "if not match:\n",
    "    print((-1, -1))"
   ]
  },
  {
   "cell_type": "markdown",
   "metadata": {},
   "source": [
    "#### XML (all – total: 2 - max points: 40)"
   ]
  },
  {
   "cell_type": "markdown",
   "metadata": {},
   "source": [
    "XML 1 - Find the Score"
   ]
  },
  {
   "cell_type": "code",
   "execution_count": null,
   "metadata": {},
   "outputs": [],
   "source": [
    "def get_attr_number(node):\n",
    "    score = len(node.attrib)\n",
    "    for child in node:\n",
    "        score += get_attr_number(child)\n",
    "    return score"
   ]
  },
  {
   "cell_type": "markdown",
   "metadata": {},
   "source": [
    "XML2 - Find the Maximum Depth"
   ]
  },
  {
   "cell_type": "code",
   "execution_count": null,
   "metadata": {},
   "outputs": [],
   "source": [
    "maxdepth = 0\n",
    "def depth(elem, level):\n",
    "    global maxdepth\n",
    "    level += 1\n",
    "    if level > maxdepth:\n",
    "        maxdepth = level\n",
    "    for i in elem:\n",
    "        depth(i, level)"
   ]
  },
  {
   "cell_type": "markdown",
   "metadata": {},
   "source": [
    "#### Closures and Decorations (all – total: 2 - max points: 60)"
   ]
  },
  {
   "cell_type": "markdown",
   "metadata": {},
   "source": [
    "Standardize Mobile Number Using Decorators"
   ]
  },
  {
   "cell_type": "code",
   "execution_count": null,
   "metadata": {},
   "outputs": [],
   "source": [
    "def wrapper(f):\n",
    "    def fun(l):\n",
    "        l_1 = []\n",
    "        for i in l:\n",
    "            if len(i) == 13:\n",
    "                a = '+91', i[3:8], i[8:]\n",
    "                l_1.append(a)\n",
    "            elif len(i) == 12:\n",
    "                a = '+91', i[2:7], i[7:]\n",
    "                l_1.append(a)\n",
    "            elif len(i) == 11:\n",
    "                a = '+91', i[1:6], i[6:]\n",
    "                l_1.append(a)\n",
    "            else:\n",
    "                a = '+91', i[0:5], i[5:]\n",
    "                l_1.append(a)\n",
    "        for x in sorted(l_1):\n",
    "            print(' '.join(x))\n",
    "    return fun"
   ]
  },
  {
   "cell_type": "markdown",
   "metadata": {},
   "source": [
    "Decorators 2 - Name Directory"
   ]
  },
  {
   "cell_type": "code",
   "execution_count": null,
   "metadata": {},
   "outputs": [],
   "source": [
    "def person_lister(f):\n",
    "    def inner(people):\n",
    "        return map(f, sorted(people, key=lambda x: int(x[2])))\n",
    "    return inner"
   ]
  },
  {
   "cell_type": "markdown",
   "metadata": {},
   "source": [
    "#### Numpy (all – total: 15 - max points: 300)"
   ]
  },
  {
   "cell_type": "markdown",
   "metadata": {},
   "source": [
    "Arrays"
   ]
  },
  {
   "cell_type": "code",
   "execution_count": null,
   "metadata": {},
   "outputs": [],
   "source": [
    "def arrays(arr):\n",
    "    arr.reverse()\n",
    "    arr_2 = numpy.array(arr, float)\n",
    "    return arr_2"
   ]
  },
  {
   "cell_type": "markdown",
   "metadata": {},
   "source": [
    "Shape and Reshape"
   ]
  },
  {
   "cell_type": "code",
   "execution_count": null,
   "metadata": {},
   "outputs": [],
   "source": [
    "import numpy\n",
    "arr = input().strip().split(' ')\n",
    "arr = numpy.array(arr, int)\n",
    "arr.shape = (3, 3)\n",
    "print(arr) "
   ]
  },
  {
   "cell_type": "markdown",
   "metadata": {},
   "source": [
    "Transpose and Flatten"
   ]
  },
  {
   "cell_type": "code",
   "execution_count": null,
   "metadata": {},
   "outputs": [],
   "source": [
    "import numpy\n",
    "n, m= map(int, input().split())\n",
    "l = []\n",
    "for i in range(n):\n",
    "    l.append(list(map(int, input().split())))\n",
    "arr = numpy.array(l)\n",
    "print(numpy.transpose(arr))\n",
    "print(arr.flatten())"
   ]
  },
  {
   "cell_type": "markdown",
   "metadata": {},
   "source": [
    "Concatenate"
   ]
  },
  {
   "cell_type": "code",
   "execution_count": null,
   "metadata": {},
   "outputs": [],
   "source": [
    "import numpy\n",
    "N, M, P = map(int, input().split())\n",
    "l_1=[]\n",
    "l_2=[]\n",
    "\n",
    "for i in range(N):\n",
    "    single = list(map(int, input().split()))\n",
    "    l_1.append(single)\n",
    "    \n",
    "for j in range(M):\n",
    "    single = list(map(int, input().split()))\n",
    "    l_2.append(single)\n",
    "    \n",
    "arr_1 = numpy.array(l_1)\n",
    "arr_2 = numpy.array(l_2)\n",
    "\n",
    "print(numpy.concatenate((arr_1, arr_2), axis = 0))"
   ]
  },
  {
   "cell_type": "markdown",
   "metadata": {},
   "source": [
    "Zeros and Ones"
   ]
  },
  {
   "cell_type": "code",
   "execution_count": null,
   "metadata": {},
   "outputs": [],
   "source": [
    "import numpy\n",
    "n = list(map(int, input().split()))\n",
    "print(numpy.zeros(n, int))\n",
    "print(numpy.ones(n, int))"
   ]
  },
  {
   "cell_type": "markdown",
   "metadata": {},
   "source": [
    "Eye and Identity"
   ]
  },
  {
   "cell_type": "code",
   "execution_count": null,
   "metadata": {},
   "outputs": [],
   "source": [
    "import numpy\n",
    "numpy.set_printoptions(legacy='1.13')\n",
    "\n",
    "N, M = map(int, input().split())\n",
    "print(numpy.eye(N, M, k = 0))"
   ]
  },
  {
   "cell_type": "markdown",
   "metadata": {},
   "source": [
    "Array Mathematics"
   ]
  },
  {
   "cell_type": "code",
   "execution_count": null,
   "metadata": {},
   "outputs": [],
   "source": [
    "import numpy\n",
    "N, M = map(int, input().split())\n",
    "A= []\n",
    "B= []\n",
    "for i in range(N):\n",
    "    A.append(list(map(int, input().split())))\n",
    "A = numpy.array(A)\n",
    "for j in range(N):\n",
    "    B.append(list(map(int, input().split())))\n",
    "B = numpy.array(B)\n",
    "\n",
    "print(numpy.add(A, B))\n",
    "print(numpy.subtract(A, B))\n",
    "print(numpy.multiply(A, B))\n",
    "print(numpy.floor_divide(A, B))\n",
    "print(numpy.mod(A, B))\n",
    "print(numpy.power(A, B))"
   ]
  },
  {
   "cell_type": "markdown",
   "metadata": {},
   "source": [
    "Floor, Ceil and Rint"
   ]
  },
  {
   "cell_type": "code",
   "execution_count": null,
   "metadata": {},
   "outputs": [],
   "source": [
    "import numpy\n",
    "numpy.set_printoptions(legacy='1.13')\n",
    "l = list(input().split())\n",
    "arr = numpy.array(l, float)\n",
    "\n",
    "print(numpy.floor(arr))\n",
    "print(numpy.ceil(arr))\n",
    "print(numpy.rint(arr))"
   ]
  },
  {
   "cell_type": "markdown",
   "metadata": {},
   "source": [
    "Sum and Prod"
   ]
  },
  {
   "cell_type": "code",
   "execution_count": null,
   "metadata": {},
   "outputs": [],
   "source": [
    "import numpy\n",
    "N, M = list(map(int, input().split()))\n",
    "l = []\n",
    "for i in range(N):\n",
    "    l.append(list(map(int, input().split())))\n",
    "arr = numpy.array(l)\n",
    "print(numpy.prod(numpy.sum(arr, axis=0)))"
   ]
  },
  {
   "cell_type": "markdown",
   "metadata": {},
   "source": [
    "Min and Max"
   ]
  },
  {
   "cell_type": "code",
   "execution_count": null,
   "metadata": {},
   "outputs": [],
   "source": [
    "import numpy\n",
    "N, M= map(int, input().split())\n",
    "l = []\n",
    "for i in range(N):\n",
    "    l.append(list(map(int, input().split())))\n",
    "arr = numpy.array(l)\n",
    "print(numpy.max(numpy.min(arr, axis=1)))"
   ]
  },
  {
   "cell_type": "markdown",
   "metadata": {},
   "source": [
    "Mean, Var, and Std"
   ]
  },
  {
   "cell_type": "code",
   "execution_count": null,
   "metadata": {},
   "outputs": [],
   "source": [
    "import numpy\n",
    "N, M = map(int, input().split())\n",
    "l = []\n",
    "for i in range(N):\n",
    "    l.append(list(map(int, input().split())))\n",
    "arr = numpy.array(l)\n",
    "print(numpy.mean(arr, axis=1))\n",
    "print(numpy.var(arr, axis=0))\n",
    "print(round(numpy.std(arr), 11))"
   ]
  },
  {
   "cell_type": "markdown",
   "metadata": {},
   "source": [
    "Dot and Cross"
   ]
  },
  {
   "cell_type": "code",
   "execution_count": null,
   "metadata": {},
   "outputs": [],
   "source": [
    "import numpy\n",
    "N = int(input())\n",
    "A = []\n",
    "B = []\n",
    "for i in range(N):\n",
    "    A.append(list(map(int, input().split())))\n",
    "for i in range(N):\n",
    "    B.append(list(map(int, input().split())))\n",
    "arr_1 = numpy.array(A)\n",
    "arr_2 = numpy.array(B)\n",
    "print(numpy.dot(arr_1, arr_2))"
   ]
  },
  {
   "cell_type": "markdown",
   "metadata": {},
   "source": [
    "Inner and Outer"
   ]
  },
  {
   "cell_type": "code",
   "execution_count": null,
   "metadata": {},
   "outputs": [],
   "source": [
    "import numpy\n",
    "A = list(map(int, input().split()))\n",
    "B = list(map(int, input().split()))\n",
    "arr_1 = numpy.array(A)\n",
    "arr_2 = numpy.array(B)\n",
    "print(numpy.inner(arr_1, arr_2))\n",
    "print(numpy.outer(arr_1, arr_2))"
   ]
  },
  {
   "cell_type": "markdown",
   "metadata": {},
   "source": [
    "Polynomials"
   ]
  },
  {
   "cell_type": "code",
   "execution_count": null,
   "metadata": {},
   "outputs": [],
   "source": [
    "import numpy\n",
    "coefs = list(map(float, input().split()))\n",
    "P = int(input())\n",
    "arr = numpy.array(coefs)\n",
    "print(numpy.polyval(arr, P))"
   ]
  },
  {
   "cell_type": "markdown",
   "metadata": {},
   "source": [
    "Linear Algebra"
   ]
  },
  {
   "cell_type": "code",
   "execution_count": null,
   "metadata": {},
   "outputs": [],
   "source": [
    "import numpy\n",
    "N = int(input())\n",
    "l = []\n",
    "for i in range(N):\n",
    "    l.append(list(map(float, input().split())))\n",
    "arr = numpy.array(l)\n",
    "print(round(numpy.linalg.det(arr), 2))"
   ]
  },
  {
   "cell_type": "markdown",
   "metadata": {},
   "source": [
    "### PROBLEM 2"
   ]
  },
  {
   "cell_type": "markdown",
   "metadata": {},
   "source": [
    "#### Birthday Cake Candles"
   ]
  },
  {
   "cell_type": "code",
   "execution_count": null,
   "metadata": {},
   "outputs": [],
   "source": [
    "#!/bin/python3\n",
    "\n",
    "import math\n",
    "import os\n",
    "import random\n",
    "import re\n",
    "import sys\n",
    "\n",
    "#\n",
    "# Complete the 'birthdayCakeCandles' function below.\n",
    "#\n",
    "# The function is expected to return an INTEGER.\n",
    "# The function accepts INTEGER_ARRAY candles as parameter.\n",
    "#\n",
    "\n",
    "def birthdayCakeCandles(candles):\n",
    "    top = max(candles)\n",
    "    return(candles.count(top))\n",
    "    \n",
    "if __name__ == '__main__':\n",
    "    fptr = open(os.environ['OUTPUT_PATH'], 'w')\n",
    "\n",
    "    candles_count = int(input().strip())\n",
    "\n",
    "    candles = list(map(int, input().rstrip().split()))\n",
    "\n",
    "    result = birthdayCakeCandles(candles)\n",
    "\n",
    "    fptr.write(str(result) + '\\n')\n",
    "\n",
    "    fptr.close()\n"
   ]
  },
  {
   "cell_type": "markdown",
   "metadata": {},
   "source": [
    "#### Number Line Jump"
   ]
  },
  {
   "cell_type": "code",
   "execution_count": null,
   "metadata": {},
   "outputs": [],
   "source": [
    "import os\n",
    "def kangaroo(x1, v1, x2, v2):\n",
    "    answer = ''\n",
    "    if abs(x1-x2)<= abs(x1- x2+v1-v2):\n",
    "        answer = 'NO'\n",
    "    elif (x1>x2) and (x1-x2)%(v1-v2) != 0:\n",
    "        answer = 'NO'\n",
    "    elif (x1<x2) and (x2-x1)%(v2-v1) != 0:\n",
    "        answer = 'NO'\n",
    "    else:\n",
    "        answer = 'YES'\n",
    "    return answer\n",
    "\n",
    "if __name__ == '__main__':\n",
    "    fptr = open(os.environ['OUTPUT_PATH'], 'w')\n",
    "\n",
    "    first_multiple_input = input().rstrip().split()\n",
    "\n",
    "    x1 = int(first_multiple_input[0])\n",
    "\n",
    "    v1 = int(first_multiple_input[1])\n",
    "\n",
    "    x2 = int(first_multiple_input[2])\n",
    "\n",
    "    v2 = int(first_multiple_input[3])\n",
    "\n",
    "    result = kangaroo(x1, v1, x2, v2)\n",
    "\n",
    "    fptr.write(result + '\\n')\n",
    "\n",
    "    fptr.close()\n"
   ]
  },
  {
   "cell_type": "markdown",
   "metadata": {},
   "source": [
    "#### Viral Advertising"
   ]
  },
  {
   "cell_type": "code",
   "execution_count": null,
   "metadata": {},
   "outputs": [],
   "source": [
    "import math\n",
    "import os\n",
    "\n",
    "def viralAdvertising(n):\n",
    "    for i in range(1, n+1):\n",
    "        if i == 1:\n",
    "            shared = 5\n",
    "            liked = 2\n",
    "            cumulative = 2\n",
    "        else:\n",
    "            shared = math.floor(shared/2) * 3\n",
    "            liked = math.floor(shared/2)\n",
    "            cumulative += liked\n",
    "    return (cumulative)\n",
    "\n",
    "if __name__ == '__main__':\n",
    "    fptr = open(os.environ['OUTPUT_PATH'], 'w')\n",
    "\n",
    "    n = int(input().strip())\n",
    "\n",
    "    result = viralAdvertising(n)\n",
    "\n",
    "    fptr.write(str(result) + '\\n')\n",
    "\n",
    "    fptr.close()"
   ]
  },
  {
   "cell_type": "markdown",
   "metadata": {},
   "source": [
    "#### Insertion Sort - Part 1"
   ]
  },
  {
   "cell_type": "code",
   "execution_count": null,
   "metadata": {},
   "outputs": [],
   "source": [
    "def insertionSort1(n, arr):\n",
    "    num = arr[-1]\n",
    "    verify = arr[-2]\n",
    "    p = arr\n",
    "    for i in range(n):\n",
    "        if num > verify:\n",
    "            p[-(1+i)] = num\n",
    "            print(*p)\n",
    "            break\n",
    "        else:\n",
    "            verify = arr[-(2+i)]\n",
    "            p = list(arr[0:(n-2-i)]+ [verify] + arr[-(2+i):-1])\n",
    "            print(*p)\n",
    "            verify = arr[-(3+i)]\n",
    "            \n",
    "if __name__ == '__main__':\n",
    "    n = int(input().strip())\n",
    "\n",
    "    arr = list(map(int, input().rstrip().split()))\n",
    "\n",
    "    insertionSort1(n, arr)"
   ]
  },
  {
   "cell_type": "markdown",
   "metadata": {},
   "source": [
    "#### Insertion Sort - Part 2"
   ]
  },
  {
   "cell_type": "code",
   "execution_count": null,
   "metadata": {},
   "outputs": [],
   "source": [
    "def insertionSort2(n, arr):\n",
    "    for value_pos in range(1, n):\n",
    "        compare_pos = value_pos-1\n",
    "        while (arr[compare_pos]>arr[value_pos]):\n",
    "            arr.insert(compare_pos,arr[value_pos])\n",
    "            arr.pop(value_pos+1)\n",
    "            if compare_pos!=0:\n",
    "                compare_pos -= 1\n",
    "            value_pos -= 1\n",
    "        print(*arr)\n",
    "\n",
    "if __name__ == '__main__':\n",
    "    n = int(input().strip())\n",
    "\n",
    "    arr = list(map(int, input().rstrip().split()))\n",
    "\n",
    "    insertionSort2(n, arr)"
   ]
  }
 ],
 "metadata": {
  "language_info": {
   "name": "python"
  }
 },
 "nbformat": 4,
 "nbformat_minor": 2
}
